{
 "cells": [
  {
   "cell_type": "markdown",
   "metadata": {},
   "source": [
    "### Importing the libraries and files"
   ]
  },
  {
   "cell_type": "code",
   "execution_count": 2,
   "metadata": {
    "scrolled": false
   },
   "outputs": [
    {
     "name": "stdout",
     "output_type": "stream",
     "text": [
      "/Users/dillonquan/Desktop/Amazon Kindle Store Review\n"
     ]
    }
   ],
   "source": [
    "cd Desktop/Amazon Kindle Store Review"
   ]
  },
  {
   "cell_type": "code",
   "execution_count": 3,
   "metadata": {
    "collapsed": true
   },
   "outputs": [],
   "source": [
    "#Data Wrangling\n",
    "import pandas as pd\n",
    "import numpy as np\n",
    "import matplotlib.pyplot as plt\n",
    "import seaborn as sns\n",
    "sns.set_style('white')\n",
    "\n",
    "#Text Preprocessing\n",
    "import string\n",
    "from nltk.corpus import stopwords\n",
    "from nltk.stem import WordNetLemmatizer\n",
    "from sklearn.feature_extraction.text import CountVectorizer\n",
    "from sklearn.feature_extraction.text import TfidfVectorizer\n",
    "\n",
    "#model training and tuning\n",
    "from sklearn.naive_bayes import MultinomialNB\n",
    "from sklearn.linear_model import LogisticRegression\n",
    "from sklearn.ensemble import RandomForestClassifier\n",
    "from sklearn.svm import LinearSVC\n",
    "from sklearn.model_selection import train_test_split, cross_val_score,GridSearchCV, RandomizedSearchCV\n",
    "from sklearn.metrics import confusion_matrix, classification_report, roc_curve, roc_auc_score\n",
    "\n",
    "#ignore the warnings from sklearn\n",
    "import warnings\n",
    "warnings.filterwarnings('ignore')"
   ]
  },
  {
   "cell_type": "code",
   "execution_count": 4,
   "metadata": {
    "collapsed": true
   },
   "outputs": [],
   "source": [
    "#importing the data\n",
    "df = pd.read_csv('kindle_reviews.csv')"
   ]
  },
  {
   "cell_type": "markdown",
   "metadata": {},
   "source": [
    "### Exploratory Data Analysis\n",
    "\n",
    "This dataset provides text reviews on books written by amazon kindle users along with an explicit rating between 1-5.  The goal of this notebook is to practice preprocessing text and developing models to predict users sentiment towards the product. Given the explicit scale, the sentiment is divided by ratings where ratings between 3-5 would be classify as Enjoyed (binary one) the book while ratings 1-2 would be classify as disliked (binary zero). \n",
    "\n",
    "The dataset's features are represented as follows:\n",
    "\n",
    "asin - ID of the product, like B000FA64PK\n",
    "\n",
    "helpful - helpfulness rating of the review - example: 2/3.\n",
    "\n",
    "overall - rating of the product.\n",
    "\n",
    "reviewText - text of the review (heading).\n",
    "\n",
    "reviewTime - time of the review (raw).\n",
    "\n",
    "reviewerID - ID of the reviewer, like A3SPTOKDG7WBLN\n",
    "\n",
    "reviewerName - name of the reviewer.\n",
    "\n",
    "summary - summary of the review (description).\n",
    "\n",
    "unixReviewTime - unix timestamp."
   ]
  },
  {
   "cell_type": "code",
   "execution_count": 5,
   "metadata": {},
   "outputs": [
    {
     "name": "stdout",
     "output_type": "stream",
     "text": [
      "<class 'pandas.core.frame.DataFrame'>\n",
      "RangeIndex: 982619 entries, 0 to 982618\n",
      "Data columns (total 10 columns):\n",
      "Unnamed: 0        982619 non-null int64\n",
      "asin              982619 non-null object\n",
      "helpful           982619 non-null object\n",
      "overall           982619 non-null int64\n",
      "reviewText        982597 non-null object\n",
      "reviewTime        982619 non-null object\n",
      "reviewerID        982619 non-null object\n",
      "reviewerName      978809 non-null object\n",
      "summary           982618 non-null object\n",
      "unixReviewTime    982619 non-null int64\n",
      "dtypes: int64(3), object(7)\n",
      "memory usage: 75.0+ MB\n"
     ]
    }
   ],
   "source": [
    "#Looking at the general information about the dataset. It seems there are some missing reivewText.\n",
    "df.info()"
   ]
  },
  {
   "cell_type": "code",
   "execution_count": 6,
   "metadata": {},
   "outputs": [
    {
     "data": {
      "text/plain": [
       "Unnamed: 0           0\n",
       "asin                 0\n",
       "helpful              0\n",
       "overall              0\n",
       "reviewText          22\n",
       "reviewTime           0\n",
       "reviewerID           0\n",
       "reviewerName      3810\n",
       "summary              1\n",
       "unixReviewTime       0\n",
       "dtype: int64"
      ]
     },
     "execution_count": 6,
     "metadata": {},
     "output_type": "execute_result"
    }
   ],
   "source": [
    "# 22 missing reviews and needs to be dropped\n",
    "df.isnull().sum()"
   ]
  },
  {
   "cell_type": "code",
   "execution_count": 7,
   "metadata": {},
   "outputs": [
    {
     "data": {
      "text/html": [
       "<div>\n",
       "<style>\n",
       "    .dataframe thead tr:only-child th {\n",
       "        text-align: right;\n",
       "    }\n",
       "\n",
       "    .dataframe thead th {\n",
       "        text-align: left;\n",
       "    }\n",
       "\n",
       "    .dataframe tbody tr th {\n",
       "        vertical-align: top;\n",
       "    }\n",
       "</style>\n",
       "<table border=\"1\" class=\"dataframe\">\n",
       "  <thead>\n",
       "    <tr style=\"text-align: right;\">\n",
       "      <th></th>\n",
       "      <th>asin</th>\n",
       "      <th>helpful</th>\n",
       "      <th>overall</th>\n",
       "      <th>reviewText</th>\n",
       "      <th>reviewTime</th>\n",
       "      <th>reviewerID</th>\n",
       "      <th>reviewerName</th>\n",
       "      <th>summary</th>\n",
       "      <th>unixReviewTime</th>\n",
       "      <th>Year</th>\n",
       "    </tr>\n",
       "  </thead>\n",
       "  <tbody>\n",
       "    <tr>\n",
       "      <th>0</th>\n",
       "      <td>B000F83SZQ</td>\n",
       "      <td>[0, 0]</td>\n",
       "      <td>5</td>\n",
       "      <td>I enjoy vintage books and movies so I enjoyed ...</td>\n",
       "      <td>2014-05-05</td>\n",
       "      <td>A1F6404F1VG29J</td>\n",
       "      <td>Avidreader</td>\n",
       "      <td>Nice vintage story</td>\n",
       "      <td>1399248000</td>\n",
       "      <td>2014</td>\n",
       "    </tr>\n",
       "    <tr>\n",
       "      <th>1</th>\n",
       "      <td>B000F83SZQ</td>\n",
       "      <td>[2, 2]</td>\n",
       "      <td>4</td>\n",
       "      <td>This book is a reissue of an old one; the auth...</td>\n",
       "      <td>2014-01-06</td>\n",
       "      <td>AN0N05A9LIJEQ</td>\n",
       "      <td>critters</td>\n",
       "      <td>Different...</td>\n",
       "      <td>1388966400</td>\n",
       "      <td>2014</td>\n",
       "    </tr>\n",
       "    <tr>\n",
       "      <th>2</th>\n",
       "      <td>B000F83SZQ</td>\n",
       "      <td>[2, 2]</td>\n",
       "      <td>4</td>\n",
       "      <td>This was a fairly interesting read.  It had ol...</td>\n",
       "      <td>2014-04-04</td>\n",
       "      <td>A795DMNCJILA6</td>\n",
       "      <td>dot</td>\n",
       "      <td>Oldie</td>\n",
       "      <td>1396569600</td>\n",
       "      <td>2014</td>\n",
       "    </tr>\n",
       "    <tr>\n",
       "      <th>3</th>\n",
       "      <td>B000F83SZQ</td>\n",
       "      <td>[1, 1]</td>\n",
       "      <td>5</td>\n",
       "      <td>I'd never read any of the Amy Brewster mysteri...</td>\n",
       "      <td>2014-02-19</td>\n",
       "      <td>A1FV0SX13TWVXQ</td>\n",
       "      <td>Elaine H. Turley \"Montana Songbird\"</td>\n",
       "      <td>I really liked it.</td>\n",
       "      <td>1392768000</td>\n",
       "      <td>2014</td>\n",
       "    </tr>\n",
       "    <tr>\n",
       "      <th>4</th>\n",
       "      <td>B000F83SZQ</td>\n",
       "      <td>[0, 1]</td>\n",
       "      <td>4</td>\n",
       "      <td>If you like period pieces - clothing, lingo, y...</td>\n",
       "      <td>2014-03-19</td>\n",
       "      <td>A3SPTOKDG7WBLN</td>\n",
       "      <td>Father Dowling Fan</td>\n",
       "      <td>Period Mystery</td>\n",
       "      <td>1395187200</td>\n",
       "      <td>2014</td>\n",
       "    </tr>\n",
       "  </tbody>\n",
       "</table>\n",
       "</div>"
      ],
      "text/plain": [
       "         asin helpful  overall  \\\n",
       "0  B000F83SZQ  [0, 0]        5   \n",
       "1  B000F83SZQ  [2, 2]        4   \n",
       "2  B000F83SZQ  [2, 2]        4   \n",
       "3  B000F83SZQ  [1, 1]        5   \n",
       "4  B000F83SZQ  [0, 1]        4   \n",
       "\n",
       "                                          reviewText reviewTime  \\\n",
       "0  I enjoy vintage books and movies so I enjoyed ... 2014-05-05   \n",
       "1  This book is a reissue of an old one; the auth... 2014-01-06   \n",
       "2  This was a fairly interesting read.  It had ol... 2014-04-04   \n",
       "3  I'd never read any of the Amy Brewster mysteri... 2014-02-19   \n",
       "4  If you like period pieces - clothing, lingo, y... 2014-03-19   \n",
       "\n",
       "       reviewerID                         reviewerName             summary  \\\n",
       "0  A1F6404F1VG29J                           Avidreader  Nice vintage story   \n",
       "1   AN0N05A9LIJEQ                             critters        Different...   \n",
       "2   A795DMNCJILA6                                  dot               Oldie   \n",
       "3  A1FV0SX13TWVXQ  Elaine H. Turley \"Montana Songbird\"  I really liked it.   \n",
       "4  A3SPTOKDG7WBLN                   Father Dowling Fan      Period Mystery   \n",
       "\n",
       "   unixReviewTime  Year  \n",
       "0      1399248000  2014  \n",
       "1      1388966400  2014  \n",
       "2      1396569600  2014  \n",
       "3      1392768000  2014  \n",
       "4      1395187200  2014  "
      ]
     },
     "execution_count": 7,
     "metadata": {},
     "output_type": "execute_result"
    }
   ],
   "source": [
    "#contained an extra Unnamed column\n",
    "df.drop(df.columns[0], axis = 1, inplace = True)\n",
    "\n",
    "#drop the rows where there are no reviews\n",
    "df.dropna(subset = ['reviewText'], inplace = True)\n",
    "\n",
    "#changing the reviewTime column to be of datetime type\n",
    "df.reviewTime = pd.to_datetime(df.reviewTime)\n",
    "\n",
    "#creating a column with just the year\n",
    "df['Year'] = df.reviewTime.dt.year\n",
    "df.head()"
   ]
  },
  {
   "cell_type": "code",
   "execution_count": 9,
   "metadata": {},
   "outputs": [
    {
     "data": {
      "image/png": "[encoded data removed]",
      "text/plain": [
       "<matplotlib.figure.Figure at 0x134e8ba58>"
      ]
     },
     "metadata": {},
     "output_type": "display_data"
    }
   ],
   "source": [
    "#number of reviews per year, it seems almost all reviews came from 2013 and 2014\n",
    "df.Year.value_counts().sort_index().plot(kind = 'bar')\n",
    "plt.title('Number of Reviews per Year')\n",
    "plt.xlabel('Year')\n",
    "plt.ylabel('Number of Reviews')\n",
    "plt.show()"
   ]
  },
  {
   "cell_type": "code",
   "execution_count": 10,
   "metadata": {},
   "outputs": [
    {
     "data": {
      "image/png": "[encoded data removed]",
      "text/plain": [
       "<matplotlib.figure.Figure at 0x114dd3550>"
      ]
     },
     "metadata": {},
     "output_type": "display_data"
    }
   ],
   "source": [
    "#top 10 users base on the number of reviews made\n",
    "df.reviewerID.value_counts().head(10).plot(kind = 'bar')\n",
    "plt.xticks(rotation = 80)\n",
    "plt.xlabel('UserID')\n",
    "plt.ylabel('Number of Reviews')\n",
    "plt.show()"
   ]
  },
  {
   "cell_type": "code",
   "execution_count": 11,
   "metadata": {},
   "outputs": [
    {
     "data": {
      "text/plain": [
       "4.347791617519695"
      ]
     },
     "execution_count": 11,
     "metadata": {},
     "output_type": "execute_result"
    }
   ],
   "source": [
    "#the overall average review on all the ratings. Seems to be skewed to have above average ratings.\n",
    "df.overall.mean()"
   ]
  },
  {
   "cell_type": "code",
   "execution_count": 12,
   "metadata": {},
   "outputs": [
    {
     "data": {
      "text/plain": [
       "5    575246\n",
       "4    254010\n",
       "3     96193\n",
       "2     34130\n",
       "1     23018\n",
       "Name: overall, dtype: int64"
      ]
     },
     "execution_count": 12,
     "metadata": {},
     "output_type": "execute_result"
    }
   ],
   "source": [
    "#the disparity between the rating scale is huge, could perform some downsample to have each class roughly have 20k samples\n",
    "df.overall.value_counts()"
   ]
  },
  {
   "cell_type": "code",
   "execution_count": 14,
   "metadata": {},
   "outputs": [
    {
     "data": {
      "image/png": "[encoded data removed]",
      "text/plain": [
       "<matplotlib.figure.Figure at 0x134e8b4e0>"
      ]
     },
     "metadata": {},
     "output_type": "display_data"
    }
   ],
   "source": [
    "#Take a deeper look into how many ratings we have per scale. Theres are more good ratings than there are bad ratings.\n",
    "df.overall.value_counts().plot(kind = 'bar')\n",
    "plt.title('Number of Good Ratings vs Bad Ratings')\n",
    "plt.xlabel('Rating Scales')\n",
    "plt.xticks(rotation = 0)\n",
    "plt.ylabel('Total ratings')\n",
    "plt.show()"
   ]
  },
  {
   "cell_type": "markdown",
   "metadata": {},
   "source": [
    "### Text Preprocessing\n",
    "\n",
    "The following cells provide the steps taken to preprocess the review texts for better feature extraction. Once the text has been preprocessed, it can then be used to develop a vocabulary for training.\n",
    "\n",
    "1. Removing punctuations\n",
    "2. Removing non alphabetical words\n",
    "3. Lowercasing all words\n",
    "4. Removing stopwords\n",
    "5. Lemmatization to reduce words to their base form"
   ]
  },
  {
   "cell_type": "code",
   "execution_count": 19,
   "metadata": {
    "scrolled": true
   },
   "outputs": [
    {
     "data": {
      "text/html": [
       "<div>\n",
       "<style>\n",
       "    .dataframe thead tr:only-child th {\n",
       "        text-align: right;\n",
       "    }\n",
       "\n",
       "    .dataframe thead th {\n",
       "        text-align: left;\n",
       "    }\n",
       "\n",
       "    .dataframe tbody tr th {\n",
       "        vertical-align: top;\n",
       "    }\n",
       "</style>\n",
       "<table border=\"1\" class=\"dataframe\">\n",
       "  <thead>\n",
       "    <tr style=\"text-align: right;\">\n",
       "      <th></th>\n",
       "      <th>reviewText</th>\n",
       "      <th>overall</th>\n",
       "    </tr>\n",
       "  </thead>\n",
       "  <tbody>\n",
       "    <tr>\n",
       "      <th>0</th>\n",
       "      <td>I enjoy vintage books and movies so I enjoyed ...</td>\n",
       "      <td>5</td>\n",
       "    </tr>\n",
       "    <tr>\n",
       "      <th>1</th>\n",
       "      <td>This book is a reissue of an old one; the auth...</td>\n",
       "      <td>4</td>\n",
       "    </tr>\n",
       "    <tr>\n",
       "      <th>2</th>\n",
       "      <td>This was a fairly interesting read.  It had ol...</td>\n",
       "      <td>4</td>\n",
       "    </tr>\n",
       "    <tr>\n",
       "      <th>3</th>\n",
       "      <td>I'd never read any of the Amy Brewster mysteri...</td>\n",
       "      <td>5</td>\n",
       "    </tr>\n",
       "    <tr>\n",
       "      <th>4</th>\n",
       "      <td>If you like period pieces - clothing, lingo, y...</td>\n",
       "      <td>4</td>\n",
       "    </tr>\n",
       "  </tbody>\n",
       "</table>\n",
       "</div>"
      ],
      "text/plain": [
       "                                          reviewText  overall\n",
       "0  I enjoy vintage books and movies so I enjoyed ...        5\n",
       "1  This book is a reissue of an old one; the auth...        4\n",
       "2  This was a fairly interesting read.  It had ol...        4\n",
       "3  I'd never read any of the Amy Brewster mysteri...        5\n",
       "4  If you like period pieces - clothing, lingo, y...        4"
      ]
     },
     "execution_count": 19,
     "metadata": {},
     "output_type": "execute_result"
    }
   ],
   "source": [
    "#created a dataframe that only contains the reviewText and the overall scoring of item\n",
    "reviews = df[['reviewText', 'overall']]\n",
    "reviews.head()"
   ]
  },
  {
   "cell_type": "code",
   "execution_count": 20,
   "metadata": {},
   "outputs": [
    {
     "name": "stdout",
     "output_type": "stream",
     "text": [
      "Original Text: This book is a reissue of an old one; the author was born in 1910. It's of the era of, say, Nero Wolfe. The introduction was quite interesting, explaining who the author was and why he's been forgotten; I'd never heard of him.The language is a little dated at times, like calling a gun a &#34;heater.&#34;  I also made good use of my Fire's dictionary to look up words like &#34;deshabille&#34; and &#34;Canarsie.&#34; Still, it was well worth a look-see.\n",
      "\n",
      "\n",
      "Punctuation Remove: This book is a reissue of an old one the author was born in 1910 Its of the era of say Nero Wolfe The introduction was quite interesting explaining who the author was and why hes been forgotten Id never heard of himThe language is a little dated at times like calling a gun a 34heater34 I also made good use of my Fires dictionary to look up words like 34deshabille34 and 34Canarsie34 Still it was well worth a looksee\n",
      "\n",
      "\n",
      "Alphabetical Words: This book is a reissue of an old one the author was born in Its of the era of say Nero Wolfe The introduction was quite interesting explaining who the author was and why hes been forgotten Id never heard of himThe language is a little dated at times like calling a gun a I also made good use of my Fires dictionary to look up words like and Still it was well worth a looksee\n",
      "\n",
      "\n",
      "Lowercase Words : this book is a reissue of an old one the author was born in its of the era of say nero wolfe the introduction was quite interesting explaining who the author was and why hes been forgotten id never heard of himthe language is a little dated at times like calling a gun a i also made good use of my fires dictionary to look up words like and still it was well worth a looksee\n",
      "\n",
      "\n",
      "Stopwords Remove: book reissue old one author born era say nero wolfe introduction quite interesting explaining author hes forgotten id never heard himthe language little dated times like calling gun also made good use fires dictionary look words like still well worth looksee\n",
      "\n",
      "\n",
      "Lemmatized Text: book reissue old one author bear era say nero wolfe introduction quite interest explain author hes forget id never hear himthe language little date time like call gun also make good use fire dictionary look word like still well worth looksee\n"
     ]
    }
   ],
   "source": [
    "print('Original Text: ' + str(reviews['reviewText'][1]))\n",
    "print('\\n')\n",
    "\n",
    "#create an empty mapping table from the str object to strip punctuation from the words\n",
    "punc = str.maketrans('', '', string.punctuation)\n",
    "#apply the empty mapping table to each element of the series where x is the review for one document.\n",
    "reviews['reviewText'] = reviews['reviewText'].apply(lambda x : ' '.join(word.translate(punc) for word in x.split()))\n",
    "print('Punctuation Remove: ' + str(reviews['reviewText'][1]))\n",
    "print('\\n')\n",
    "\n",
    "#removing words that is non alpha\n",
    "reviews['reviewText'] = reviews['reviewText'].apply(lambda x: ' '.join(word for word in x.split() if word.isalpha()))\n",
    "print('Alphabetical Words: '+ str(reviews['reviewText'][1]))\n",
    "print('\\n')\n",
    "\n",
    "#making all words to be lowercase\n",
    "reviews['reviewText'] = reviews['reviewText'].apply(lambda x: ' '.join(word.lower() for word in x.split()))\n",
    "print('Lowercase Words : '+ str(reviews['reviewText'][1]))\n",
    "print('\\n')\n",
    "\n",
    "#list of stop words\n",
    "stop = stopwords.words('english')\n",
    "#removing the stop words\n",
    "reviews['reviewText'] = reviews['reviewText'].apply(lambda x : ' '.join(word for word in x.split() if word not in stop))\n",
    "print('Stopwords Remove: ' + str(reviews['reviewText'][1]))\n",
    "print('\\n')\n",
    "\n",
    "#Lemmatize words to reduce them to their root form. Note: added the pos = 'v' to reduce the incoming word to verb root\n",
    "lem = WordNetLemmatizer()\n",
    "reviews['reviewText'] = reviews['reviewText'].apply(lambda x : ' '.join(lem.lemmatize(word, pos = 'v') for word in x.split()))\n",
    "print('Lemmatized Text: ' + str(reviews['reviewText'][1]))"
   ]
  },
  {
   "cell_type": "code",
   "execution_count": 22,
   "metadata": {},
   "outputs": [
    {
     "data": {
      "text/html": [
       "<div>\n",
       "<style>\n",
       "    .dataframe thead tr:only-child th {\n",
       "        text-align: right;\n",
       "    }\n",
       "\n",
       "    .dataframe thead th {\n",
       "        text-align: left;\n",
       "    }\n",
       "\n",
       "    .dataframe tbody tr th {\n",
       "        vertical-align: top;\n",
       "    }\n",
       "</style>\n",
       "<table border=\"1\" class=\"dataframe\">\n",
       "  <thead>\n",
       "    <tr style=\"text-align: right;\">\n",
       "      <th></th>\n",
       "      <th>reviewText</th>\n",
       "      <th>overall</th>\n",
       "    </tr>\n",
       "  </thead>\n",
       "  <tbody>\n",
       "    <tr>\n",
       "      <th>0</th>\n",
       "      <td>enjoy vintage book movies enjoy read book plot...</td>\n",
       "      <td>1</td>\n",
       "    </tr>\n",
       "    <tr>\n",
       "      <th>1</th>\n",
       "      <td>book reissue old one author bear era say nero ...</td>\n",
       "      <td>1</td>\n",
       "    </tr>\n",
       "    <tr>\n",
       "      <th>2</th>\n",
       "      <td>fairly interest read old style terminologyi gl...</td>\n",
       "      <td>1</td>\n",
       "    </tr>\n",
       "    <tr>\n",
       "      <th>3</th>\n",
       "      <td>id never read amy brewster mysteries one reall...</td>\n",
       "      <td>1</td>\n",
       "    </tr>\n",
       "    <tr>\n",
       "      <th>4</th>\n",
       "      <td>like period piece clothe lingo enjoy mystery a...</td>\n",
       "      <td>1</td>\n",
       "    </tr>\n",
       "  </tbody>\n",
       "</table>\n",
       "</div>"
      ],
      "text/plain": [
       "                                          reviewText  overall\n",
       "0  enjoy vintage book movies enjoy read book plot...        1\n",
       "1  book reissue old one author bear era say nero ...        1\n",
       "2  fairly interest read old style terminologyi gl...        1\n",
       "3  id never read amy brewster mysteries one reall...        1\n",
       "4  like period piece clothe lingo enjoy mystery a...        1"
      ]
     },
     "execution_count": 22,
     "metadata": {},
     "output_type": "execute_result"
    }
   ],
   "source": [
    "#separating the ratings to different sentiment \n",
    "r1 = reviews[reviews.overall.isin([3,4,5])]\n",
    "r0 = reviews[reviews.overall.isin([1,2])]\n",
    "r1.loc[:, 'overall'] = 1\n",
    "r0.loc[:, 'overall'] = 0\n",
    "\n",
    "#concat the two new dataframes return one dataframe with preprocessed text and their corresponding labels\n",
    "rev = pd.concat([r1,r0])\n",
    "rev.head()"
   ]
  },
  {
   "cell_type": "markdown",
   "metadata": {},
   "source": []
  },
  {
   "cell_type": "markdown",
   "metadata": {},
   "source": [
    "### Multinomial Naive Bayes\n",
    "\n",
    "A quick train using the Multinomial Naive Bayes algorithm can help serve as a baseline of what performance can be achieved. Before training the model, there are two things that needs to be done.\n",
    "\n",
    "1. Balanced the data. Since there is a disparity between ratings, this inherently makes the sentiment target labels imbalance as well and training a model with data that has serverly more of one class causes the model to classify all new samples to the majority class. There are a few solutions that can be applied but I chose to downsample the majority class to the minority class since there are an abundance of examples in this dataset.\n",
    "\n",
    "2. Build the vocabulary. This can be done by turning the words in each review to a vector where the entries are either a word frequency or a weight using the CountVectorizer or TfidfVectorizer respectively. Note that this method does not consider word ordering and is known as the bag of words method.\n",
    "\n",
    "As a result, it seems training on a Multinomial Naive Bayes provides an accuracy of 86% without tuning any parameters regardless of using CountVectorizer or TfidfVectorizer. Looking at the size of the training examples, there are more features than there are samples. The parameter min_df can be tuned to reduce number of features and will be done next."
   ]
  },
  {
   "cell_type": "code",
   "execution_count": 23,
   "metadata": {},
   "outputs": [
    {
     "data": {
      "text/plain": [
       "1    925449\n",
       "0     57148\n",
       "Name: overall, dtype: int64"
      ]
     },
     "execution_count": 23,
     "metadata": {},
     "output_type": "execute_result"
    }
   ],
   "source": [
    "rev.overall.value_counts()"
   ]
  },
  {
   "cell_type": "code",
   "execution_count": 24,
   "metadata": {},
   "outputs": [],
   "source": [
    "#balancing the training data by downsampling to the minority class given there is a good amount of data\n",
    "def make_xy(data, vec, n):\n",
    "    \"\"\"Takes in a dataframe with text and labels and returns a vocabulary of some sort\n",
    "        depending on the vectorizer used.\n",
    "        \n",
    "        Arguments:\n",
    "        \n",
    "        data - the input dataframe containing the text and the labels\n",
    "        \n",
    "        vec - the chosen vectorizer to use\n",
    "        \n",
    "        n - the number of samples per class\n",
    "        \"\"\"\n",
    "    temp = pd.DataFrame()\n",
    "    #sampling only n class reviews per class\n",
    "    for rating in range(2):\n",
    "        temp = pd.concat([temp, data[data.overall == rating].sample(n, random_state = 42)], ignore_index = True)\n",
    "    #vectorizing the vocabulary\n",
    "    X = vec.fit_transform(temp.reviewText)\n",
    "    y = temp.overall\n",
    "    return X, y"
   ]
  },
  {
   "cell_type": "code",
   "execution_count": 25,
   "metadata": {},
   "outputs": [],
   "source": [
    "#using CountVectorizer\n",
    "count = CountVectorizer()\n",
    "X, y = make_xy(rev, count, 20000)"
   ]
  },
  {
   "cell_type": "code",
   "execution_count": 26,
   "metadata": {},
   "outputs": [],
   "source": [
    "#using TfidfVectorizer\n",
    "tfidf = TfidfVectorizer()\n",
    "Xt, yt = make_xy(rev, tfidf, 20000)"
   ]
  },
  {
   "cell_type": "code",
   "execution_count": 28,
   "metadata": {},
   "outputs": [
    {
     "name": "stdout",
     "output_type": "stream",
     "text": [
      "Training Accuracy w/ CountVectorizer: 0.91\n",
      "Testing Accuracy w/ CountVectorizer: 0.87\n"
     ]
    }
   ],
   "source": [
    "#testing the model with CountVectorizer\n",
    "X_train, X_test, y_train, y_test = train_test_split(X, y, test_size = .3, random_state = 42, stratify = y)\n",
    "\n",
    "naive = MultinomialNB()\n",
    "naive.fit(X_train, y_train)\n",
    "print('Training Accuracy w/ CountVectorizer: {:.2f}'.format(naive.score(X_train, y_train)))\n",
    "print('Testing Accuracy w/ CountVectorizer: {:.2f}'.format(naive.score(X_test, y_test)))"
   ]
  },
  {
   "cell_type": "code",
   "execution_count": 29,
   "metadata": {},
   "outputs": [
    {
     "name": "stdout",
     "output_type": "stream",
     "text": [
      "Training Accuracy w/ TfidfVectorizer: 0.91\n",
      "Testing Accuracy w/ TfidfVectorizer: 0.87\n"
     ]
    }
   ],
   "source": [
    "#testing the model with tfidf vectorizer\n",
    "Xt_train, Xt_test, yt_train, yt_test = train_test_split(Xt, yt, test_size = .3, random_state = 42, stratify = y)\n",
    "\n",
    "nb = MultinomialNB()\n",
    "nb.fit(Xt_train, yt_train)\n",
    "print('Training Accuracy w/ TfidfVectorizer: {:.2f}'.format(nb.score(Xt_train, yt_train)))\n",
    "print('Testing Accuracy w/ TfidfVectorizer: {:.2f}'.format(nb.score(Xt_test, yt_test)))"
   ]
  },
  {
   "cell_type": "code",
   "execution_count": 30,
   "metadata": {},
   "outputs": [
    {
     "data": {
      "text/plain": [
       "(40000, 84510)"
      ]
     },
     "execution_count": 30,
     "metadata": {},
     "output_type": "execute_result"
    }
   ],
   "source": [
    "X.shape"
   ]
  },
  {
   "cell_type": "markdown",
   "metadata": {},
   "source": []
  },
  {
   "cell_type": "markdown",
   "metadata": {},
   "source": [
    "### Hyperparameter Tuning on Naive Bayes\n",
    "\n",
    "In previous section, training a Multinomial Naive Bayes without tuning any hyperparameters provided testing accuracy of 87% regardless of which Vectorizer was chosen. However, the vocabulary has about 80000 words from sampling 40000 observations. To reduce the number of word features, finding the right value for min_df is necessary. min_df is a parameter for CountVectorizer and TfidfVectorizer that requires a word to appear in a minimum number of documents in the entire corpus if an integer is pass for this parameter. If a float is passed, then the word must be within this proportion of the corpus. Another parameter that can be tuned is the alpha term when instantiating the Naive Bayes algorithm. This parameter helps prevent the likelihood probability from being 0 just because a word did not show up in the training examples. These parameters will be tuned to see if further improvement can be made using Naive Bayes algorithm.\n",
    "\n",
    "In the end, through tuning the parameters using K-Fold cross validation, the model still provided a testing accuracy of 87% but was able to provide this accuracy with approximately 3600 words compared to the previous 80000 using a min_df of .001. Although the best min_df was determine to be .00001, this value only improved training accuracy, as such it was tuned down to further reduce the number of word features while maintaining testing accuracy. Note that this model was trained using a TfidfVectorizer as will for the remainder of the notebook."
   ]
  },
  {
   "cell_type": "code",
   "execution_count": 31,
   "metadata": {
    "scrolled": true
   },
   "outputs": [],
   "source": [
    "#Tuning the min_df parameter for the vectorizer and the alpha in the multinomial Naive Bayes\n",
    "best_alpha = 0\n",
    "best_min_df = 0\n",
    "best_score = 0\n",
    "\n",
    "#param_grid\n",
    "alphas = [.1, 1, 5, 10, 50]\n",
    "min_dfs = [1e-5, 1e-4, 1e-3, 1e-2, 1e-1]\n",
    "\n",
    "#iterate throughout the param grid\n",
    "for alpha in alphas:\n",
    "    for m_df in min_dfs:\n",
    "        tfidf = TfidfVectorizer(min_df = m_df)\n",
    "        X, y = make_xy(rev, tfidf, 20000)\n",
    "        naive = MultinomialNB(alpha = alpha)\n",
    "        score = np.mean(cross_val_score(naive, X, y, scoring = 'accuracy', cv = 3))\n",
    "        if score > best_score:\n",
    "            best_score = score\n",
    "            best_alpha = alpha\n",
    "            best_min_df = m_df"
   ]
  },
  {
   "cell_type": "code",
   "execution_count": 32,
   "metadata": {
    "scrolled": true
   },
   "outputs": [
    {
     "name": "stdout",
     "output_type": "stream",
     "text": [
      "Best_score: 0.87\n",
      "Best_alpha: 5.00\n",
      "Best_min_df: 0.00001\n"
     ]
    }
   ],
   "source": [
    "print('Best_score: {:.2f}'.format(best_score))\n",
    "print('Best_alpha: {:.2f}'.format(best_alpha))\n",
    "print('Best_min_df: {:.5f}'.format(best_min_df))"
   ]
  },
  {
   "cell_type": "code",
   "execution_count": 35,
   "metadata": {},
   "outputs": [
    {
     "name": "stdout",
     "output_type": "stream",
     "text": [
      "Training Accuracy w/ TfidfVectorizer: 0.88\n",
      "Testing Accuracy w/ TfidfVectorizer: 0.87\n",
      "\n",
      "\n",
      "[[5333  667]\n",
      " [ 887 5113]]\n",
      "\n",
      "\n",
      "             precision    recall  f1-score   support\n",
      "\n",
      "          0       0.86      0.89      0.87      6000\n",
      "          1       0.88      0.85      0.87      6000\n",
      "\n",
      "avg / total       0.87      0.87      0.87     12000\n",
      "\n"
     ]
    }
   ],
   "source": [
    "tfidf = TfidfVectorizer(min_df = .001)\n",
    "X, y = make_xy(rev,tfidf, 20000)\n",
    "X_train, X_test, y_train, y_test = train_test_split(X, y, test_size = .3, random_state = 42, stratify = y)\n",
    "naive = MultinomialNB(alpha = 5)\n",
    "naive.fit(X_train, y_train)\n",
    "naive_pred = naive.predict(X_test)\n",
    "naive_prob = naive.predict_proba(X_test)[:,1]\n",
    "\n",
    "\n",
    "print('Training Accuracy w/ TfidfVectorizer: {:.2f}'.format(naive.score(X_train, y_train)))\n",
    "print('Testing Accuracy w/ TfidfVectorizer: {:.2f}'.format(naive.score(X_test, y_test)))\n",
    "print('\\n')\n",
    "print(confusion_matrix(y_test, naive_pred))\n",
    "print('\\n')\n",
    "print(classification_report(y_test, naive_pred))"
   ]
  },
  {
   "cell_type": "code",
   "execution_count": 36,
   "metadata": {
    "scrolled": true
   },
   "outputs": [
    {
     "data": {
      "text/plain": [
       "(28000, 3690)"
      ]
     },
     "execution_count": 36,
     "metadata": {},
     "output_type": "execute_result"
    }
   ],
   "source": [
    "X_train.shape"
   ]
  },
  {
   "cell_type": "markdown",
   "metadata": {},
   "source": []
  },
  {
   "attachments": {},
   "cell_type": "markdown",
   "metadata": {},
   "source": [
    "### Model Selections\n",
    "\n",
    "In the following section, other models such as Logistic Regression, SVC, and Random Forest were trained to see if they would provide better performance using the TfidfVectorizer. Overall, after using multiple metrics such as accuracy, AUC_score, precision and recall, these 3 algorithms provided similar results when compared to Naive Bayes. A summary can be seen below.\n",
    "\n",
    "### Results\n",
    "\n",
    "#### Naive Bayes\n",
    "\n",
    "    Accuracy: 87% \n",
    "    Precision: .87\n",
    "    Recall: .87\n",
    "    AUC Score: .94\n",
    "\n",
    "#### Logistic Regression\n",
    "\n",
    "    Acuracy: 86%\n",
    "    Precision: .86\n",
    "    Recall: .86\n",
    "    AUC Score: .94\n",
    "\n",
    "#### Linear SVC\n",
    "\n",
    "    Accuracy: 87%\n",
    "    Precision: .87\n",
    "    Recall: .87\n",
    "    AUC Score: .87\n",
    "\n",
    "#### Random Forest\n",
    "\n",
    "    Accuracy: 85%\n",
    "    Precision: .85\n",
    "    Recall: .85\n",
    "    AUC Score: .92"
   ]
  },
  {
   "cell_type": "markdown",
   "metadata": {},
   "source": [
    "### Logistic Regression"
   ]
  },
  {
   "cell_type": "code",
   "execution_count": 37,
   "metadata": {},
   "outputs": [
    {
     "name": "stdout",
     "output_type": "stream",
     "text": [
      "Training Accuracy w/ TfidfVectorizer: 0.89\n",
      "Testing Accuracy w/ TfidfVectorizer: 0.88\n",
      "\n",
      "\n",
      "[[5338  662]\n",
      " [ 801 5199]]\n",
      "\n",
      "\n",
      "             precision    recall  f1-score   support\n",
      "\n",
      "          0       0.87      0.89      0.88      6000\n",
      "          1       0.89      0.87      0.88      6000\n",
      "\n",
      "avg / total       0.88      0.88      0.88     12000\n",
      "\n"
     ]
    }
   ],
   "source": [
    "#creating a grid space\n",
    "c_space = np.logspace(-5,6, 15)\n",
    "penalty = ['l1', 'l2']\n",
    "param_grid = {'C':c_space, 'penalty': penalty}\n",
    "logreg = LogisticRegression()\n",
    "\n",
    "#exhaustive search for the best parameters\n",
    "logreg_cv = GridSearchCV(logreg, param_grid, cv = 5)\n",
    "logreg_cv.fit(X_train,y_train)\n",
    "\n",
    "#train model using the best parameters determine from GridSearchCV\n",
    "logreg = LogisticRegression(C = logreg_cv.best_params_['C'], penalty = logreg_cv.best_params_['penalty'])\n",
    "logreg.fit(X_train, y_train)\n",
    "logreg_pred = logreg.predict(X_test)\n",
    "logreg_prob = logreg.predict_proba(X_test)[:,1]\n",
    "\n",
    "print('Training Accuracy w/ TfidfVectorizer: {:.2f}'.format(logreg.score(X_train, y_train)))\n",
    "print('Testing Accuracy w/ TfidfVectorizer: {:.2f}'.format(logreg.score(X_test, y_test)))\n",
    "print('\\n')\n",
    "print(confusion_matrix(y_test, logreg_pred))\n",
    "print('\\n')\n",
    "print(classification_report(y_test, logreg_pred))"
   ]
  },
  {
   "cell_type": "markdown",
   "metadata": {},
   "source": [
    "### Support Vector Classifier"
   ]
  },
  {
   "cell_type": "code",
   "execution_count": 55,
   "metadata": {},
   "outputs": [
    {
     "name": "stdout",
     "output_type": "stream",
     "text": [
      "Training Accuracy w/ TfidfVectorizer: 0.91\n",
      "Testing Accuracy w/ TfidfVectorizer: 0.87\n",
      "\n",
      "\n",
      "[[5242  758]\n",
      " [ 815 5185]]\n",
      "\n",
      "\n",
      "             precision    recall  f1-score   support\n",
      "\n",
      "          0       0.87      0.87      0.87      6000\n",
      "          1       0.87      0.86      0.87      6000\n",
      "\n",
      "avg / total       0.87      0.87      0.87     12000\n",
      "\n"
     ]
    }
   ],
   "source": [
    "#creating array of regularization values\n",
    "c_space = np.logspace(-5,6, 8)\n",
    "best_score = []\n",
    "score = 0\n",
    "best_c = 0\n",
    "\n",
    "#exhaustive search for the best parameters\n",
    "for value in c_space:\n",
    "    svm = LinearSVC(C = value)\n",
    "    score = np.mean(cross_val_score(naive, X_train, y_train, scoring = 'accuracy', cv = 5))\n",
    "    if score > best_score:\n",
    "        best_score = score\n",
    "        best_c = value\n",
    "\n",
    "#train model using the best parameters determine from kfold\n",
    "try:\n",
    "    svm = LinearSVC(best_c)\n",
    "    svm.fit(X_train, y_train)\n",
    "    svm_pred = svm.predict(X_test)\n",
    "    \n",
    "except:\n",
    "    svm = LinearSVC()\n",
    "    svm.fit(X_train, y_train)\n",
    "    svm_pred = svm.predict(X_test)\n",
    "\n",
    "print('Training Accuracy w/ TfidfVectorizer: {:.2f}'.format(svm.score(X_train, y_train)))\n",
    "print('Testing Accuracy w/ TfidfVectorizer: {:.2f}'.format(svm.score(X_test, y_test)))\n",
    "print('\\n')\n",
    "print(confusion_matrix(y_test, svm_pred))\n",
    "print('\\n')\n",
    "print(classification_report(y_test, svm_pred))"
   ]
  },
  {
   "cell_type": "markdown",
   "metadata": {},
   "source": [
    "### Random Forest Classifier"
   ]
  },
  {
   "cell_type": "code",
   "execution_count": 56,
   "metadata": {},
   "outputs": [
    {
     "data": {
      "text/plain": [
       "RandomizedSearchCV(cv=3, error_score='raise',\n",
       "          estimator=RandomForestClassifier(bootstrap=True, class_weight=None, criterion='gini',\n",
       "            max_depth=None, max_features='auto', max_leaf_nodes=None,\n",
       "            min_impurity_split=1e-07, min_samples_leaf=1,\n",
       "            min_samples_split=2, min_weight_fraction_leaf=0.0,\n",
       "            n_estimators=10, n_jobs=1, oob_score=False, random_state=None,\n",
       "            verbose=0, warm_start=False),\n",
       "          fit_params={}, iid=True, n_iter=10, n_jobs=-1,\n",
       "          param_distributions={'n_estimators': [100, 500, 1000, 1500, 2000], 'max_depth': [5, 10, 20, 30, 40], 'max_features': ['sqrt', 'log2'], 'min_samples_leaf': [10, 100, 500, 1000, 2000], 'min_samples_split': [200, 500, 1000, 2000]},\n",
       "          pre_dispatch='2*n_jobs', random_state=None, refit=True,\n",
       "          return_train_score=True, scoring=None, verbose=0)"
      ]
     },
     "execution_count": 56,
     "metadata": {},
     "output_type": "execute_result"
    }
   ],
   "source": [
    "#Random Forest Classifier\n",
    "rf = RandomForestClassifier()\n",
    "#param_grid\n",
    "rf_params = {'n_estimators':[100, 500, 1000, 1500, 2000], \n",
    "             'max_depth': [5, 10, 20, 30 ,40], \n",
    "             'max_features': ['sqrt', 'log2'],\n",
    "            'min_samples_leaf': [10, 100, 500, 1000, 2000],\n",
    "            'min_samples_split': [200, 500, 1000, 2000]}\n",
    "\n",
    "#fitting the randomize search\n",
    "rf_cv = RandomizedSearchCV(rf, rf_params, cv = 3, n_jobs = -1)\n",
    "rf_cv.fit(X_train,y_train)"
   ]
  },
  {
   "cell_type": "code",
   "execution_count": 57,
   "metadata": {
    "scrolled": true
   },
   "outputs": [
    {
     "name": "stdout",
     "output_type": "stream",
     "text": [
      "{'n_estimators': 1000, 'min_samples_split': 200, 'min_samples_leaf': 10, 'max_features': 'log2', 'max_depth': 40}\n",
      "Training Accuracy w/ TfidfVectorizer: 0.88\n",
      "Testing Accuracy w/ TfidfVectorizer: 0.86\n",
      "\n",
      "\n",
      "[[5323  677]\n",
      " [ 961 5039]]\n",
      "\n",
      "\n",
      "             precision    recall  f1-score   support\n",
      "\n",
      "          0       0.85      0.89      0.87      6000\n",
      "          1       0.88      0.84      0.86      6000\n",
      "\n",
      "avg / total       0.86      0.86      0.86     12000\n",
      "\n"
     ]
    }
   ],
   "source": [
    "best_model = rf_cv.best_estimator_\n",
    "best_model.fit(X_train, y_train)\n",
    "rf_pred = best_model.predict(X_test)\n",
    "rf_prob = best_model.predict_proba(X_test)[:,1]\n",
    "print(rf_cv.best_params_)\n",
    "print('Training Accuracy w/ TfidfVectorizer: {:.2f}'.format(best_model.score(X_train, y_train)))\n",
    "print('Testing Accuracy w/ TfidfVectorizer: {:.2f}'.format(best_model.score(X_test, y_test)))\n",
    "print('\\n')\n",
    "print(confusion_matrix(y_test, rf_pred))\n",
    "print('\\n')\n",
    "print(classification_report(y_test, rf_pred))"
   ]
  },
  {
   "cell_type": "code",
   "execution_count": 65,
   "metadata": {},
   "outputs": [
    {
     "data": {
      "image/png": "[encoded data removed]",
      "text/plain": [
       "<matplotlib.figure.Figure at 0x14edd1f28>"
      ]
     },
     "metadata": {},
     "output_type": "display_data"
    }
   ],
   "source": [
    "#Plotting the roc curves for each model\n",
    "sns.set_style('white')\n",
    "fig, ax = plt.subplots()\n",
    "ax.plot([0,1], [0,1], linestyle = '--', color = 'darkorange')\n",
    "\n",
    "probs = [naive_prob, logreg_prob, rf_prob, svm_pred]\n",
    "labels = ['Naive Bayes', 'Logistic Regression', 'Random Forest', 'SVC']\n",
    "for idx in range(len(probs)):\n",
    "    fpr, tpr, thresholds = roc_curve(y_test, probs[idx])\n",
    "    ax.plot(fpr, tpr, label = (labels[idx] + ' AUC score = %.2f' % roc_auc_score(y_test, probs[idx])))\n",
    "    \n",
    "plt.xlabel('False Positive Rate')\n",
    "plt.ylabel('True Positive Rate')\n",
    "plt.title('ROC Curves')\n",
    "ax.legend(loc = 'lower right')\n",
    "ax.margins(x = 0.01, y =0.02)\n",
    "\n",
    "\n",
    "plt.show()"
   ]
  },
  {
   "cell_type": "code",
   "execution_count": null,
   "metadata": {
    "collapsed": true
   },
   "outputs": [],
   "source": []
  }
 ],
 "metadata": {
  "kernelspec": {
   "display_name": "Python 3",
   "language": "python",
   "name": "python3"
  },
  "language_info": {
   "codemirror_mode": {
    "name": "ipython",
    "version": 3
   },
   "file_extension": ".py",
   "mimetype": "text/x-python",
   "name": "python",
   "nbconvert_exporter": "python",
   "pygments_lexer": "ipython3",
   "version": "3.6.1"
  }
 },
 "nbformat": 4,
 "nbformat_minor": 2
}
